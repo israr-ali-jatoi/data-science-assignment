{
 "cells": [
  {
   "cell_type": "code",
   "execution_count": 8,
   "id": "987b4ee9",
   "metadata": {},
   "outputs": [
    {
     "name": "stdout",
     "output_type": "stream",
     "text": [
      "Twinkle,twinkle,little star,\n",
      "  How I wonder what you are!\n",
      "    Up above the world so high,\n",
      "    like a diamond in the sky.\n",
      "Twinkle,twinkle,little star,\n",
      "  How I wonder what you are\n"
     ]
    }
   ],
   "source": [
    "print(\"Twinkle,twinkle,little star,\\n  How I wonder what you are!\\n    Up above the world so high,\\n    like a diamond in the sky.\\nTwinkle,twinkle,little star,\\n  How I wonder what you are\")"
   ]
  },
  {
   "cell_type": "code",
   "execution_count": 9,
   "id": "407db0c7",
   "metadata": {},
   "outputs": [
    {
     "data": {
      "text/plain": [
       "'3.8.8 (default, Apr 13 2021, 15:08:03) [MSC v.1916 64 bit (AMD64)]'"
      ]
     },
     "execution_count": 9,
     "metadata": {},
     "output_type": "execute_result"
    }
   ],
   "source": [
    "import sys\n",
    "sys.version"
   ]
  },
  {
   "cell_type": "code",
   "execution_count": 10,
   "id": "f12794ba",
   "metadata": {},
   "outputs": [
    {
     "name": "stdout",
     "output_type": "stream",
     "text": [
      "01-01-22 16-03-05\n"
     ]
    }
   ],
   "source": [
    "import datetime\n",
    "e=datetime.datetime.now()\n",
    "print(e.strftime(\"%d-%m-%y %H-%M-%S\"))"
   ]
  },
  {
   "cell_type": "code",
   "execution_count": 13,
   "id": "f3a391a5",
   "metadata": {},
   "outputs": [
    {
     "name": "stdout",
     "output_type": "stream",
     "text": [
      "Enter radius of a circle in m:2\n"
     ]
    },
    {
     "data": {
      "text/plain": [
       "12.566370614359172"
      ]
     },
     "execution_count": 13,
     "metadata": {},
     "output_type": "execute_result"
    }
   ],
   "source": [
    "from math import pi \n",
    "r=input(\"Enter radius of a circle in m:\")\n",
    "r=int(r)\n",
    "area= pi*r**2\n",
    "area"
   ]
  },
  {
   "cell_type": "code",
   "execution_count": 21,
   "id": "d817d47c",
   "metadata": {},
   "outputs": [
    {
     "name": "stdout",
     "output_type": "stream",
     "text": [
      "Enter your first name:israr\n",
      "Enter your last name:ali\n",
      "ali israr\n"
     ]
    }
   ],
   "source": [
    "fname=input(\"Enter your first name:\")\n",
    "lname=input(\"Enter your last name:\")\n",
    "full_name=lname +\" \" +fname\n",
    "print(full_name)"
   ]
  },
  {
   "cell_type": "code",
   "execution_count": 22,
   "id": "a5dd7538",
   "metadata": {},
   "outputs": [
    {
     "name": "stdout",
     "output_type": "stream",
     "text": [
      "enter first number:2\n",
      "enter second number:4\n"
     ]
    },
    {
     "data": {
      "text/plain": [
       "6"
      ]
     },
     "execution_count": 22,
     "metadata": {},
     "output_type": "execute_result"
    }
   ],
   "source": [
    "finput=int(input(\"enter first number:\"))\n",
    "sinput=int(input(\"enter second number:\"))\n",
    "final= finput+sinput\n",
    "final"
   ]
  },
  {
   "cell_type": "code",
   "execution_count": null,
   "id": "7c2c41db",
   "metadata": {},
   "outputs": [],
   "source": []
  }
 ],
 "metadata": {
  "kernelspec": {
   "display_name": "Python 3",
   "language": "python",
   "name": "python3"
  },
  "language_info": {
   "codemirror_mode": {
    "name": "ipython",
    "version": 3
   },
   "file_extension": ".py",
   "mimetype": "text/x-python",
   "name": "python",
   "nbconvert_exporter": "python",
   "pygments_lexer": "ipython3",
   "version": "3.8.8"
  }
 },
 "nbformat": 4,
 "nbformat_minor": 5
}
